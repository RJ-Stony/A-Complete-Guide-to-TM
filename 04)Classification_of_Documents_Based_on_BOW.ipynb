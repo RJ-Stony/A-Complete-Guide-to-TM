{
  "nbformat": 4,
  "nbformat_minor": 0,
  "metadata": {
    "colab": {
      "provenance": [],
      "collapsed_sections": [],
      "toc_visible": true,
      "authorship_tag": "ABX9TyPKV5kzO+Glt1jPmoPqBMCc",
      "include_colab_link": true
    },
    "kernelspec": {
      "name": "python3",
      "display_name": "Python 3"
    },
    "language_info": {
      "name": "python"
    }
  },
  "cells": [
    {
      "cell_type": "markdown",
      "metadata": {
        "id": "view-in-github",
        "colab_type": "text"
      },
      "source": [
        "<a href=\"https://colab.research.google.com/github/RJ-Stony/A-Complete-Guide-to-TM/blob/main/04)Classification_of_Documents_Based_on_BOW.ipynb\" target=\"_parent\"><img src=\"https://colab.research.google.com/assets/colab-badge.svg\" alt=\"Open In Colab\"/></a>"
      ]
    },
    {
      "cell_type": "markdown",
      "source": [
        "## 20 Newsgroup data preparation and feature extraction"
      ],
      "metadata": {
        "id": "9MyF6CMinBgu"
      }
    },
    {
      "cell_type": "markdown",
      "source": [
        "### Checking and Detaching Datasets"
      ],
      "metadata": {
        "id": "E5YIWg680QnM"
      }
    },
    {
      "cell_type": "code",
      "source": [
        "from sklearn.datasets import fetch_20newsgroups\n",
        "\n",
        "# Create a list of Topics you want to select from Among 20 topics\n",
        "categories = ['alt.atheism', 'talk.religion.misc', 'comp.graphics', 'sci.space']\n",
        "\n",
        "# Get the training dataset\n",
        "newsgroups_train = fetch_20newsgroups(subset='train',\n",
        "# Delete the hint part from the mail content - Classify it purely by the content\n",
        "                                      remove=('headers', 'footers', 'quotes'),\n",
        "                                      categories=categories)\n",
        "\n",
        "# Get the Test dataset\n",
        "newsgroups_test = fetch_20newsgroups(subset='test',\n",
        "                                     remove=('headers', 'footers', 'quotes'),\n",
        "                                     categories=categories)\n",
        "\n",
        "print('# Train set size:', len(newsgroups_train.data))\n",
        "print('# Test set size:', len(newsgroups_test.data))\n",
        "print('# Selected categories:', newsgroups_train.target_names)\n",
        "print('# Train labels:', set(newsgroups_train.target))"
      ],
      "metadata": {
        "colab": {
          "base_uri": "https://localhost:8080/"
        },
        "id": "AzS7-fmO0iGN",
        "outputId": "28e21212-a912-404a-8f2c-68f12699c878"
      },
      "execution_count": 1,
      "outputs": [
        {
          "output_type": "stream",
          "name": "stdout",
          "text": [
            "# Train set size: 2034\n",
            "# Test set size: 1353\n",
            "# Selected categories: ['alt.atheism', 'comp.graphics', 'sci.space', 'talk.religion.misc']\n",
            "# Train labels: {0, 1, 2, 3}\n"
          ]
        }
      ]
    },
    {
      "cell_type": "code",
      "source": [
        "print('# Train set text samples:', newsgroups_train.data[0])\n",
        "print('# Train set label samples:', newsgroups_train.target[0])\n",
        "print('# Test set text samples:', newsgroups_test.data[0])\n",
        "print('# Test set text samples:', newsgroups_test.target[0])"
      ],
      "metadata": {
        "colab": {
          "base_uri": "https://localhost:8080/"
        },
        "id": "FD761kvD1N0u",
        "outputId": "dd68bbde-448c-4488-9a3b-958f88671683"
      },
      "execution_count": 2,
      "outputs": [
        {
          "output_type": "stream",
          "name": "stdout",
          "text": [
            "# Train set text samples: Hi,\n",
            "\n",
            "I've noticed that if you only save a model (with all your mapping planes\n",
            "positioned carefully) to a .3DS file that when you reload it after restarting\n",
            "3DS, they are given a default position and orientation.  But if you save\n",
            "to a .PRJ file their positions/orientation are preserved.  Does anyone\n",
            "know why this information is not stored in the .3DS file?  Nothing is\n",
            "explicitly said in the manual about saving texture rules in the .PRJ file. \n",
            "I'd like to be able to read the texture rule information, does anyone have \n",
            "the format for the .PRJ file?\n",
            "\n",
            "Is the .CEL file format available from somewhere?\n",
            "\n",
            "Rych\n",
            "# Train set label samples: 1\n",
            "# Test set text samples: TRry the SKywatch project in  Arizona.\n",
            "# Test set text samples: 2\n"
          ]
        }
      ]
    },
    {
      "cell_type": "markdown",
      "source": [
        "### Count-Based Feature Extraction"
      ],
      "metadata": {
        "id": "jH3WpVdU4Qzs"
      }
    },
    {
      "cell_type": "code",
      "source": [
        "X_train = newsgroups_train.data     # Train Dataset Documentation\n",
        "y_train = newsgroups_train.target   # Train Dataset Label\n",
        "\n",
        "X_test = newsgroups_test.data       # Test Dataset Documentation\n",
        "y_test = newsgroups_test.target     # Test Dataset Label\n",
        "\n",
        "from sklearn.feature_extraction.text import CountVectorizer\n",
        "\n",
        "cv = CountVectorizer(max_features=2000, min_df=5, max_df=.5)\n",
        "\n",
        "X_train_cv = cv.fit_transform(X_train)    # Transform the Train set\n",
        "print('Train set dimension:', X_train_cv.shape)\n",
        "X_test_cv = cv.transform(X_test)          # Transform the Test set\n",
        "print('Test set dimension:', X_test_cv.shape)"
      ],
      "metadata": {
        "colab": {
          "base_uri": "https://localhost:8080/"
        },
        "id": "K1ujhoSQ4o4t",
        "outputId": "0202abff-ecd0-4b47-b12c-2b79f7ffc0ba"
      },
      "execution_count": 3,
      "outputs": [
        {
          "output_type": "stream",
          "name": "stdout",
          "text": [
            "Train set dimension: (2034, 2000)\n",
            "Test set dimension: (1353, 2000)\n"
          ]
        }
      ]
    },
    {
      "cell_type": "code",
      "source": [
        "for word, count in zip(\n",
        "    cv.get_feature_names_out()[:100], X_train_cv[0].toarray()[0, :100]\n",
        "):\n",
        "  print(word, ':', count, end=', ')"
      ],
      "metadata": {
        "colab": {
          "base_uri": "https://localhost:8080/"
        },
        "id": "W93oSUoZ5ntg",
        "outputId": "bf4701ca-e444-4221-a10b-591011b9f65d"
      },
      "execution_count": 4,
      "outputs": [
        {
          "output_type": "stream",
          "name": "stdout",
          "text": [
            "00 : 0, 000 : 0, 01 : 0, 04 : 0, 05 : 0, 10 : 0, 100 : 0, 1000 : 0, 11 : 0, 12 : 0, 128 : 0, 129 : 0, 13 : 0, 130 : 0, 14 : 0, 15 : 0, 16 : 0, 17 : 0, 18 : 0, 19 : 0, 1987 : 0, 1988 : 0, 1989 : 0, 1990 : 0, 1991 : 0, 1992 : 0, 1993 : 0, 20 : 0, 200 : 0, 202 : 0, 21 : 0, 22 : 0, 23 : 0, 24 : 0, 25 : 0, 256 : 0, 26 : 0, 27 : 0, 28 : 0, 2d : 0, 30 : 0, 300 : 0, 31 : 0, 32 : 0, 33 : 0, 34 : 0, 35 : 0, 39 : 0, 3d : 0, 40 : 0, 400 : 0, 42 : 0, 45 : 0, 50 : 0, 500 : 0, 60 : 0, 600 : 0, 65 : 0, 70 : 0, 75 : 0, 80 : 0, 800 : 0, 90 : 0, 900 : 0, 91 : 0, 92 : 0, 93 : 0, 95 : 0, _the : 0, ability : 0, able : 1, abortion : 0, about : 1, above : 0, absolute : 0, absolutely : 0, ac : 0, accept : 0, acceptable : 0, accepted : 0, access : 0, according : 0, account : 0, accurate : 0, across : 0, act : 0, action : 0, actions : 0, active : 0, activities : 0, activity : 0, acts : 0, actual : 0, actually : 0, ad : 0, add : 0, added : 0, addition : 0, additional : 0, address : 0, "
          ]
        }
      ]
    },
    {
      "cell_type": "markdown",
      "source": [
        "## Classification of Documents using a Naive Bayes Classifier"
      ],
      "metadata": {
        "id": "Pkke4y2J6VMo"
      }
    },
    {
      "cell_type": "code",
      "source": [
        "from sklearn.naive_bayes import MultinomialNB\n",
        "\n",
        "# Classifier Declaration\n",
        "NB_clf = MultinomialNB()\n",
        "# Train a Classifier using a Train Set\n",
        "NB_clf.fit(X_train_cv, y_train)\n",
        "\n",
        "# Check the Prediction Accuracy for the Train Set\n",
        "print('Train set score: {:.3f}'.format(NB_clf.score(X_train_cv, y_train)))\n",
        "# Check the Prediction Accuracy for the Test Set\n",
        "print('Test set score: {:.3f}'.format(NB_clf.score(X_test_cv, y_test)))"
      ],
      "metadata": {
        "colab": {
          "base_uri": "https://localhost:8080/"
        },
        "id": "sCgolTSo7Vyn",
        "outputId": "7a00751f-03db-4d6f-9452-9fc091b50b12"
      },
      "execution_count": 5,
      "outputs": [
        {
          "output_type": "stream",
          "name": "stdout",
          "text": [
            "Train set score: 0.824\n",
            "Test set score: 0.732\n"
          ]
        }
      ]
    },
    {
      "cell_type": "code",
      "source": [
        "print('# First Document and label in test data:', X_test[0], y_test[0])\n",
        "print('# Second Document and label in test data:', X_test[1], y_test[1])\n",
        "\n",
        "pred = NB_clf.predict(X_test_cv[:2])\n",
        "\n",
        "print('# Predicted labels:', pred)\n",
        "print(\n",
        "    '# Predicted categories:',\n",
        "    newsgroups_train.target_names[pred[0]],\n",
        "    newsgroups_train.target_names[pred[1]]\n",
        ")"
      ],
      "metadata": {
        "colab": {
          "base_uri": "https://localhost:8080/"
        },
        "id": "WtRsr_r_E9l-",
        "outputId": "b06e7787-8e60-48be-c3ea-5031156b4fa6"
      },
      "execution_count": 6,
      "outputs": [
        {
          "output_type": "stream",
          "name": "stdout",
          "text": [
            "# First Document and label in test data: TRry the SKywatch project in  Arizona. 2\n",
            "# Second Document and label in test data: The Vatican library recently made a tour of the US.\n",
            " Can anyone help me in finding a FTP site where this collection is \n",
            " available. 1\n",
            "# Predicted labels: [2 1]\n",
            "# Predicted categories: sci.space comp.graphics\n"
          ]
        }
      ]
    },
    {
      "cell_type": "code",
      "source": [
        "from sklearn.feature_extraction.text import TfidfVectorizer\n",
        "\n",
        "# Use the same Argument as CountVectorizer\n",
        "tfidf = TfidfVectorizer(max_features=2000, min_df=5, max_df=0.5)\n",
        "X_train_tfidf = tfidf.fit_transform(X_train)    # Return train set\n",
        "X_test_tfidf = tfidf.transform(X_test)          # Return test set\n",
        "\n",
        "# A new Classifier is trained using the tfidf train set.\n",
        "NB_clf.fit(X_train_tfidf, y_train)\n",
        "\n",
        "# Check the Prediction Accuracy for the Train Set\n",
        "print('Train set score: {:.3f}'.format(NB_clf.score(X_train_tfidf, y_train)))\n",
        "\n",
        "# Check the Prediction Accuracy for the Test Set\n",
        "print('Test set score: {:.3f}'.format(NB_clf.score(X_test_tfidf, y_test)))"
      ],
      "metadata": {
        "id": "05xi3eqxFsz3",
        "colab": {
          "base_uri": "https://localhost:8080/"
        },
        "outputId": "186575a6-d622-47e1-de91-8a9f9bb074a5"
      },
      "execution_count": 7,
      "outputs": [
        {
          "output_type": "stream",
          "name": "stdout",
          "text": [
            "Train set score: 0.862\n",
            "Test set score: 0.741\n"
          ]
        }
      ]
    },
    {
      "cell_type": "code",
      "source": [
        "import numpy as np\n",
        "\n",
        "def top10_features(classifier, vectorizer, categories):\n",
        "  feature_names = np.asarray(vectorizer.get_feature_names_out())\n",
        "  \n",
        "  for i, category in enumerate(categories):\n",
        "    # To sort in Reverse Order, Take a Negative number for the Coefficient and Return 10 values ​​from the front after Sorting.\n",
        "    top10 = np.argsort(-classifier.coef_[i])[:10]\n",
        "    # Outputs Categories and 10 high-impact Traits\n",
        "    print(\"%s: %s\" % (category, \", \".join(feature_names[top10])))\n",
        "\n",
        "top10_features(NB_clf, tfidf, newsgroups_train.target_names)"
      ],
      "metadata": {
        "colab": {
          "base_uri": "https://localhost:8080/"
        },
        "id": "qo9NlmFKJyVY",
        "outputId": "36b16021-ffa5-45d0-bc20-653adca248d2"
      },
      "execution_count": 8,
      "outputs": [
        {
          "output_type": "stream",
          "name": "stdout",
          "text": [
            "alt.atheism: you, not, are, be, this, have, as, what, they, if\n",
            "comp.graphics: you, on, graphics, this, have, any, can, or, with, thanks\n",
            "sci.space: space, on, you, be, was, this, as, they, have, are\n",
            "talk.religion.misc: you, not, he, are, as, this, be, god, was, they\n"
          ]
        },
        {
          "output_type": "stream",
          "name": "stderr",
          "text": [
            "/usr/local/lib/python3.7/dist-packages/sklearn/utils/deprecation.py:103: FutureWarning: Attribute `coef_` was deprecated in version 0.24 and will be removed in 1.1 (renaming of 0.26).\n",
            "  warnings.warn(msg, category=FutureWarning)\n"
          ]
        }
      ]
    },
    {
      "cell_type": "markdown",
      "source": [
        "## Document Classification Using Logistic Regression"
      ],
      "metadata": {
        "id": "blM7DQVxKq0q"
      }
    },
    {
      "cell_type": "code",
      "source": [
        "# Use Logistic Regression provided by Sklearn\n",
        "from sklearn.linear_model import LogisticRegression\n",
        "\n",
        "# Perform Regression on the Count Vector and Compare it with NB\n",
        "LR_clf = LogisticRegression()   # Classifier Declaration\n",
        "\n",
        "# Train a Classifier Using Train data\n",
        "LR_clf.fit(X_train_tfidf, y_train)\n",
        "\n",
        "# Prediction Accuracy for the Train Set\n",
        "print('Train set score: {:.3f}'.format(LR_clf.score(X_train_tfidf, y_train)))\n",
        "\n",
        "# Prediction Accuracy for the Test Set\n",
        "print('Test set score: {:.3f}'.format(LR_clf.score(X_test_tfidf, y_test)))"
      ],
      "metadata": {
        "colab": {
          "base_uri": "https://localhost:8080/"
        },
        "id": "mhNOvsBrQxFP",
        "outputId": "23db23a2-5ed1-46e9-d78d-e7bf9a7d48f6"
      },
      "execution_count": 9,
      "outputs": [
        {
          "output_type": "stream",
          "name": "stdout",
          "text": [
            "Train set score: 0.930\n",
            "Test set score: 0.734\n"
          ]
        }
      ]
    },
    {
      "cell_type": "markdown",
      "source": [
        "### Avoid Overfitting Using Ridge Regression"
      ],
      "metadata": {
        "id": "kZwf6I_3RwB6"
      }
    },
    {
      "cell_type": "code",
      "source": [
        "from sklearn.linear_model import RidgeClassifier\n",
        "\n",
        "ridge_clf = RidgeClassifier()   # RidgeClassifier Declaration\n",
        "ridge_clf.fit(X_train_tfidf, y_train)   # Train\n",
        "\n",
        "print('Train set score: {:.3f}'.format(ridge_clf.score(X_train_tfidf, y_train)))\n",
        "print('Test set score: {:.3f}'.format(ridge_clf.score(X_test_tfidf, y_test)))"
      ],
      "metadata": {
        "colab": {
          "base_uri": "https://localhost:8080/"
        },
        "id": "yHWMXj8WSCsJ",
        "outputId": "6c0e2767-9365-448f-80d2-dac1216121fa"
      },
      "execution_count": 10,
      "outputs": [
        {
          "output_type": "stream",
          "name": "stdout",
          "text": [
            "Train set score: 0.960\n",
            "Test set score: 0.735\n"
          ]
        }
      ]
    },
    {
      "cell_type": "code",
      "source": [
        "import numpy as np\n",
        "from sklearn.model_selection import train_test_split\n",
        "\n",
        "X_train_ridge, X_val_ridge, y_train_ridge, y_val_ridge = train_test_split(\n",
        "    X_train_tfidf, y_train, test_size=.2, random_state=42)\n",
        "\n",
        "max_score = 0\n",
        "max_alpha = 0\n",
        "for alpha in np.arange(0.1, 10, 0.1):   # Increase alpha by 0.1 from 0.1 to 10\n",
        "  ridge_clf = RidgeClassifier(alpha=alpha)    # RidgeClassifier Declaration\n",
        "  ridge_clf.fit(X_train_ridge, y_train_ridge)   # Train\n",
        "  # Measuring Accuracy on a Validate Dataset\n",
        "  score = ridge_clf.score(X_val_ridge, y_val_ridge)\n",
        "  if score > max_score:   # If the Accuracy is greater than the Previous Maximum Accuracy, change the Maximum.\n",
        "    max_score = score\n",
        "    max_alpha = alpha\n",
        "print('Max alpha {:.3f} at max validation score {:.3f}'.format(max_alpha, max_score))"
      ],
      "metadata": {
        "colab": {
          "base_uri": "https://localhost:8080/"
        },
        "id": "iJZpsrusTva2",
        "outputId": "f9c7ad37-5989-4378-b1ae-20280df01929"
      },
      "execution_count": 11,
      "outputs": [
        {
          "output_type": "stream",
          "name": "stdout",
          "text": [
            "Max alpha 1.600 at max validation score 0.826\n"
          ]
        }
      ]
    },
    {
      "cell_type": "code",
      "source": [
        "ridge_clf = RidgeClassifier(alpha=1.6)    # RidgeClassifier Declaration\n",
        "ridge_clf.fit(X_train_tfidf, y_train)     # Train\n",
        "\n",
        "print('Train set score: {:.3f}'.format(ridge_clf.score(X_train_tfidf, y_train)))\n",
        "print('Test set score: {:.3f}'.format(ridge_clf.score(X_test_tfidf, y_test)))"
      ],
      "metadata": {
        "colab": {
          "base_uri": "https://localhost:8080/"
        },
        "id": "8DG1jUMzWKce",
        "outputId": "fff5e126-d68d-4f56-8314-f989a0276de8"
      },
      "execution_count": 12,
      "outputs": [
        {
          "output_type": "stream",
          "name": "stdout",
          "text": [
            "Train set score: 0.948\n",
            "Test set score: 0.739\n"
          ]
        }
      ]
    },
    {
      "cell_type": "code",
      "source": [
        "top10_features(ridge_clf, tfidf, newsgroups_train.target_names)"
      ],
      "metadata": {
        "colab": {
          "base_uri": "https://localhost:8080/"
        },
        "id": "Be86kq_vWrHC",
        "outputId": "930e31f0-8572-4aaa-f92f-580c41075cdc"
      },
      "execution_count": 13,
      "outputs": [
        {
          "output_type": "stream",
          "name": "stdout",
          "text": [
            "alt.atheism: bobby, religion, atheism, atheists, motto, punishment, islam, deletion, islamic, satan\n",
            "comp.graphics: graphics, computer, 3d, file, image, hi, 42, using, screen, looking\n",
            "sci.space: space, orbit, nasa, spacecraft, moon, sci, launch, flight, funding, idea\n",
            "talk.religion.misc: christian, christians, fbi, blood, order, jesus, objective, children, christ, hudson\n"
          ]
        }
      ]
    },
    {
      "cell_type": "markdown",
      "source": [
        "### Feature Selection Using Lasso Regression"
      ],
      "metadata": {
        "id": "MuHxPzDvW3vv"
      }
    },
    {
      "cell_type": "code",
      "source": [],
      "metadata": {
        "id": "v5XY5lWNXEfH"
      },
      "execution_count": null,
      "outputs": []
    }
  ]
}