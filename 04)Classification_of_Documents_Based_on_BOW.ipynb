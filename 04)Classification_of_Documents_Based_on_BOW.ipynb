{
  "nbformat": 4,
  "nbformat_minor": 0,
  "metadata": {
    "colab": {
      "provenance": [],
      "collapsed_sections": [],
      "toc_visible": true,
      "authorship_tag": "ABX9TyMrl6zozNai0R5KSwB4Oj8z",
      "include_colab_link": true
    },
    "kernelspec": {
      "name": "python3",
      "display_name": "Python 3"
    },
    "language_info": {
      "name": "python"
    }
  },
  "cells": [
    {
      "cell_type": "markdown",
      "metadata": {
        "id": "view-in-github",
        "colab_type": "text"
      },
      "source": [
        "<a href=\"https://colab.research.google.com/github/RJ-Stony/A-Complete-Guide-to-TM/blob/main/04)Classification_of_Documents_Based_on_BOW.ipynb\" target=\"_parent\"><img src=\"https://colab.research.google.com/assets/colab-badge.svg\" alt=\"Open In Colab\"/></a>"
      ]
    },
    {
      "cell_type": "markdown",
      "source": [
        "## 20 Newsgroup data preparation and feature extraction"
      ],
      "metadata": {
        "id": "9MyF6CMinBgu"
      }
    },
    {
      "cell_type": "markdown",
      "source": [
        "### Checking and Detaching Datasets"
      ],
      "metadata": {
        "id": "E5YIWg680QnM"
      }
    },
    {
      "cell_type": "code",
      "source": [
        "from sklearn.datasets import fetch_20newsgroups\n",
        "\n",
        "# Create a list of Topics you want to select from Among 20 topics\n",
        "categories = ['alt.atheism', 'talk.religion.misc', 'comp.graphics', 'sci.space']\n",
        "\n",
        "# Get the training dataset\n",
        "newsgroups_train = fetch_20newsgroups(subset='train',\n",
        "# Delete the hint part from the mail content - Classify it purely by the content\n",
        "                                      remove=('headers', 'footers', 'quotes'),\n",
        "                                      categories=categories)\n",
        "\n",
        "# Get the Test dataset\n",
        "newsgroups_test = fetch_20newsgroups(subset='test',\n",
        "                                     remove=('headers', 'footers', 'quotes'),\n",
        "                                     categories=categories)\n",
        "\n",
        "print('# Train set size:', len(newsgroups_train.data))\n",
        "print('# Test set size:', len(newsgroups_test.data))\n",
        "print('# Selected categories:', newsgroups_train.target_names)\n",
        "print('# Train labels:', set(newsgroups_train.target))"
      ],
      "metadata": {
        "colab": {
          "base_uri": "https://localhost:8080/"
        },
        "id": "AzS7-fmO0iGN",
        "outputId": "e7d43ff6-5abe-46d9-b5f6-7d6f597a4555"
      },
      "execution_count": 2,
      "outputs": [
        {
          "output_type": "stream",
          "name": "stdout",
          "text": [
            "# Train set size: 2034\n",
            "# Test set size: 1353\n",
            "# Selected categories: ['alt.atheism', 'comp.graphics', 'sci.space', 'talk.religion.misc']\n",
            "# Train labels: {0, 1, 2, 3}\n"
          ]
        }
      ]
    },
    {
      "cell_type": "code",
      "source": [
        "print('# Train set text samples:', newsgroups_train.data[0])\n",
        "print('# Train set label samples:', newsgroups_train.target[0])\n",
        "print('# Test set text samples:', newsgroups_test.data[0])\n",
        "print('# Test set text samples:', newsgroups_test.target[0])"
      ],
      "metadata": {
        "colab": {
          "base_uri": "https://localhost:8080/"
        },
        "id": "FD761kvD1N0u",
        "outputId": "f9fea90b-d101-48e8-e55e-e836f2883f5e"
      },
      "execution_count": 3,
      "outputs": [
        {
          "output_type": "stream",
          "name": "stdout",
          "text": [
            "# Train set text samples: Hi,\n",
            "\n",
            "I've noticed that if you only save a model (with all your mapping planes\n",
            "positioned carefully) to a .3DS file that when you reload it after restarting\n",
            "3DS, they are given a default position and orientation.  But if you save\n",
            "to a .PRJ file their positions/orientation are preserved.  Does anyone\n",
            "know why this information is not stored in the .3DS file?  Nothing is\n",
            "explicitly said in the manual about saving texture rules in the .PRJ file. \n",
            "I'd like to be able to read the texture rule information, does anyone have \n",
            "the format for the .PRJ file?\n",
            "\n",
            "Is the .CEL file format available from somewhere?\n",
            "\n",
            "Rych\n",
            "# Train set label samples: 1\n",
            "# Test set text samples: TRry the SKywatch project in  Arizona.\n",
            "# Test set text samples: 2\n"
          ]
        }
      ]
    },
    {
      "cell_type": "markdown",
      "source": [
        "### Count-Based Feature Extraction"
      ],
      "metadata": {
        "id": "jH3WpVdU4Qzs"
      }
    },
    {
      "cell_type": "code",
      "source": [
        "X_train = newsgroups_train.data     # Train Dataset Documentation\n",
        "y_train = newsgroups_train.target   # Train Dataset Label\n",
        "\n",
        "X_test = newsgroups_test.data       # Test Dataset Documentation\n",
        "y_test = newsgroups_test.target     # Test Dataset Label\n",
        "\n",
        "from sklearn.feature_extraction.text import CountVectorizer\n",
        "\n",
        "cv = CountVectorizer(max_features=2000, min_df=5, max_df=.5)\n",
        "\n",
        "X_train_cv = cv.fit_transform(X_train)    # Transform the Train set\n",
        "print('Train set dimension:', X_train_cv.shape)\n",
        "X_test_cv = cv.transform(X_test)          # Transform the Test set\n",
        "print('Test set dimension:', X_test_cv.shape)"
      ],
      "metadata": {
        "colab": {
          "base_uri": "https://localhost:8080/"
        },
        "id": "K1ujhoSQ4o4t",
        "outputId": "b4dadc88-6ec0-489b-e60e-9bb9eebbbf04"
      },
      "execution_count": 7,
      "outputs": [
        {
          "output_type": "stream",
          "name": "stdout",
          "text": [
            "Train set dimension: (2034, 2000)\n",
            "Test set dimension: (1353, 2000)\n"
          ]
        }
      ]
    },
    {
      "cell_type": "code",
      "source": [
        "for word, count in zip(\n",
        "    cv.get_feature_names_out()[:100], X_train_cv[0].toarray()[0, :100]\n",
        "):\n",
        "  print(word, ':', count, end=', ')"
      ],
      "metadata": {
        "colab": {
          "base_uri": "https://localhost:8080/"
        },
        "id": "W93oSUoZ5ntg",
        "outputId": "cf6e6e3e-3aa5-4c0e-bd0f-1473289daa69"
      },
      "execution_count": 11,
      "outputs": [
        {
          "output_type": "stream",
          "name": "stdout",
          "text": [
            "00 : 0, 000 : 0, 01 : 0, 04 : 0, 05 : 0, 10 : 0, 100 : 0, 1000 : 0, 11 : 0, 12 : 0, 128 : 0, 129 : 0, 13 : 0, 130 : 0, 14 : 0, 15 : 0, 16 : 0, 17 : 0, 18 : 0, 19 : 0, 1987 : 0, 1988 : 0, 1989 : 0, 1990 : 0, 1991 : 0, 1992 : 0, 1993 : 0, 20 : 0, 200 : 0, 202 : 0, 21 : 0, 22 : 0, 23 : 0, 24 : 0, 25 : 0, 256 : 0, 26 : 0, 27 : 0, 28 : 0, 2d : 0, 30 : 0, 300 : 0, 31 : 0, 32 : 0, 33 : 0, 34 : 0, 35 : 0, 39 : 0, 3d : 0, 40 : 0, 400 : 0, 42 : 0, 45 : 0, 50 : 0, 500 : 0, 60 : 0, 600 : 0, 65 : 0, 70 : 0, 75 : 0, 80 : 0, 800 : 0, 90 : 0, 900 : 0, 91 : 0, 92 : 0, 93 : 0, 95 : 0, _the : 0, ability : 0, able : 1, abortion : 0, about : 1, above : 0, absolute : 0, absolutely : 0, ac : 0, accept : 0, acceptable : 0, accepted : 0, access : 0, according : 0, account : 0, accurate : 0, across : 0, act : 0, action : 0, actions : 0, active : 0, activities : 0, activity : 0, acts : 0, actual : 0, actually : 0, ad : 0, add : 0, added : 0, addition : 0, additional : 0, address : 0, "
          ]
        }
      ]
    },
    {
      "cell_type": "markdown",
      "source": [
        "## Classification of Documents using a Naive Bayes Classifier"
      ],
      "metadata": {
        "id": "Pkke4y2J6VMo"
      }
    },
    {
      "cell_type": "code",
      "source": [
        "from sklearn.naive_bayes import MultinomialNB\n",
        "\n",
        "# Classifier Declaration\n",
        "NB_clf = MultinomialNB()\n",
        "# Train a Classifier using a Train Set\n",
        "NB_clf.fit(X_train_cv, y_train)\n",
        "\n",
        "# Check the Prediction Accuracy for the Train Set\n",
        "print('Train set score: {:.3f}'.format(NB_clf.score(X_train_cv, y_train)))\n",
        "# Check the Prediction Accuracy for the Test Set\n",
        "print('Test set score: {:.3f}'.format(NB_clf.score(X_test_cv, y_test)))"
      ],
      "metadata": {
        "colab": {
          "base_uri": "https://localhost:8080/"
        },
        "id": "sCgolTSo7Vyn",
        "outputId": "93e5a741-ab42-486e-f632-e59c7a542378"
      },
      "execution_count": 12,
      "outputs": [
        {
          "output_type": "stream",
          "name": "stdout",
          "text": [
            "Train set score: 0.824\n",
            "Test set score: 0.732\n"
          ]
        }
      ]
    }
  ]
}