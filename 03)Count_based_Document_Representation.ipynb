{
  "nbformat": 4,
  "nbformat_minor": 0,
  "metadata": {
    "colab": {
      "provenance": [],
      "collapsed_sections": [],
      "toc_visible": true,
      "authorship_tag": "ABX9TyPmcdTp5k3xHKcgFLW4AmPm",
      "include_colab_link": true
    },
    "kernelspec": {
      "name": "python3",
      "display_name": "Python 3"
    },
    "language_info": {
      "name": "python"
    }
  },
  "cells": [
    {
      "cell_type": "markdown",
      "metadata": {
        "id": "view-in-github",
        "colab_type": "text"
      },
      "source": [
        "<a href=\"https://colab.research.google.com/github/RJ-Stony/A-Complete-Guide-to-TM/blob/main/03)Count_based_Document_Representation.ipynb\" target=\"_parent\"><img src=\"https://colab.research.google.com/assets/colab-badge.svg\" alt=\"Open In Colab\"/></a>"
      ]
    },
    {
      "cell_type": "markdown",
      "source": [
        "## Generate BOW-based Count Vector"
      ],
      "metadata": {
        "id": "uTi6F5Fu5bcj"
      }
    },
    {
      "cell_type": "markdown",
      "source": [
        "### Main Function of movie_reviews\n",
        "- fileids( )\n",
        "    - Returns the id(fileid) of movie review documents. \n",
        "    - If you use a <strong>'categories'</strong> parameter, you can get only the ids of documents belonging to a specific category.\n",
        "- categories( )\n",
        "    - Shows the classification, or label, of review documents.\n",
        "    - Here, it has positive('pos') and negative('neg') values ​​expressing emotion.\n",
        "- raw( )\n",
        "    - Returns the original text of the review document in the form of a list of strings.\n",
        "    - If <strong>'fileid'</strong> is given as an argument, only specific documents can be retrieved.\n",
        "- sents( )\n",
        "    - Returns the result of tokenizing sentences tokenized with <strong>'sent_tokenize'</strong> of NLTK with <strong>'word_tokenize'</strong> for the original text of the review document.\n",
        "    - By giving <strong>'fileid'</strong> as an argument, you can get the tokenization result for a specific document.\n",
        "- words( )\n",
        "    - Returns the result of tokenization with <strong>'word_tokenize'</strong> of NLTK for the original text of the review document.\n",
        "    - By giving <strong>'fileid'</strong> as an argument, you can get the tokenization result for a specific document."
      ],
      "metadata": {
        "id": "7NhWFQaD5qje"
      }
    },
    {
      "cell_type": "code",
      "source": [
        "import nltk\n",
        "nltk.download('movie_reviews')\n",
        "nltk.download('punkt')\n",
        "\n",
        "from nltk.corpus import movie_reviews\n",
        "\n",
        "print('# review count:', len(movie_reviews.fileids()))    # Returns the id of the movie review document\n",
        "print('# samples of file ids:', movie_reviews.fileids()[:10])   # Print up to 10 ids\n",
        "\n",
        "fileid = movie_reviews.fileids()[0]     # Returns the id of the first document\n",
        "print('# id of the first review:', fileid)\n",
        "\n",
        "# Print the content of the first document up to 200 characters\n",
        "print('# first review content:\\n', movie_reviews.raw(fileid)[:200])\n",
        "\n",
        "# Among the results of sentence tokenizing the first document, the first two sentences\n",
        "print('# sentence tokenization result:', movie_reviews.sents(fileid)[:2])\n",
        "\n",
        "# The first 20 words of the result of word tokenizing the first document\n",
        "print('# word tokenization result:', movie_reviews.words(fileid)[:20])"
      ],
      "metadata": {
        "colab": {
          "base_uri": "https://localhost:8080/"
        },
        "id": "keXOPv6s7X1I",
        "outputId": "5b6b1df3-aa07-4866-b640-b701a2b1559b"
      },
      "execution_count": 3,
      "outputs": [
        {
          "output_type": "stream",
          "name": "stderr",
          "text": [
            "[nltk_data] Downloading package movie_reviews to /root/nltk_data...\n",
            "[nltk_data]   Package movie_reviews is already up-to-date!\n",
            "[nltk_data] Downloading package punkt to /root/nltk_data...\n",
            "[nltk_data]   Unzipping tokenizers/punkt.zip.\n"
          ]
        },
        {
          "output_type": "stream",
          "name": "stdout",
          "text": [
            "# review count: 2000\n",
            "# samples of file ids: ['neg/cv000_29416.txt', 'neg/cv001_19502.txt', 'neg/cv002_17424.txt', 'neg/cv003_12683.txt', 'neg/cv004_12641.txt', 'neg/cv005_29357.txt', 'neg/cv006_17022.txt', 'neg/cv007_4992.txt', 'neg/cv008_29326.txt', 'neg/cv009_29417.txt']\n",
            "# id of the first review: neg/cv000_29416.txt\n",
            "# first review content:\n",
            " plot : two teen couples go to a church party , drink and then drive . \n",
            "they get into an accident . \n",
            "one of the guys dies , but his girlfriend continues to see him in her life , and has nightmares . \n",
            "w\n",
            "# sentence tokenization result: [['plot', ':', 'two', 'teen', 'couples', 'go', 'to', 'a', 'church', 'party', ',', 'drink', 'and', 'then', 'drive', '.'], ['they', 'get', 'into', 'an', 'accident', '.']]\n",
            "# word tokenization result: ['plot', ':', 'two', 'teen', 'couples', 'go', 'to', 'a', 'church', 'party', ',', 'drink', 'and', 'then', 'drive', '.', 'they', 'get', 'into', 'an']\n"
          ]
        }
      ]
    },
    {
      "cell_type": "code",
      "source": [
        "documents = [list(movie_reviews.words(fileid)) for fileid in movie_reviews.fileids()]\n",
        "print(documents[0][:50])    # Print the first 50 words of the first document."
      ],
      "metadata": {
        "colab": {
          "base_uri": "https://localhost:8080/"
        },
        "id": "yeHwZpZ2_Gh_",
        "outputId": "6d32c4ee-1ef3-4825-cbbe-a0532157f724"
      },
      "execution_count": 4,
      "outputs": [
        {
          "output_type": "stream",
          "name": "stdout",
          "text": [
            "['plot', ':', 'two', 'teen', 'couples', 'go', 'to', 'a', 'church', 'party', ',', 'drink', 'and', 'then', 'drive', '.', 'they', 'get', 'into', 'an', 'accident', '.', 'one', 'of', 'the', 'guys', 'dies', ',', 'but', 'his', 'girlfriend', 'continues', 'to', 'see', 'him', 'in', 'her', 'life', ',', 'and', 'has', 'nightmares', '.', 'what', \"'\", 's', 'the', 'deal', '?', 'watch']\n"
          ]
        }
      ]
    },
    {
      "cell_type": "code",
      "source": [
        "word_count = {}\n",
        "for text in documents:\n",
        "  for word in text:\n",
        "    word_count[word] = word_count.get(word, 0) + 1\n",
        "\n",
        "sorted_features = sorted(word_count, key=word_count.get, reverse=True)\n",
        "for word in sorted_features[:10]:\n",
        "  print(f\"count of '{word}': {word_count[word]}\", end=', ')"
      ],
      "metadata": {
        "colab": {
          "base_uri": "https://localhost:8080/"
        },
        "id": "eD1zB-tyBNr0",
        "outputId": "75a3a67b-ae09-4149-c718-621c146e71e7"
      },
      "execution_count": 5,
      "outputs": [
        {
          "output_type": "stream",
          "name": "stdout",
          "text": [
            "count of ',': 77717, count of 'the': 76529, count of '.': 65876, count of 'a': 38106, count of 'and': 35576, count of 'of': 34123, count of 'to': 31937, count of ''': 30585, count of 'is': 25195, count of 'in': 21822, "
          ]
        }
      ]
    },
    {
      "cell_type": "code",
      "source": [
        "from nltk.tokenize import RegexpTokenizer\n",
        "nltk.download('stopwords')\n",
        "from nltk.corpus import stopwords     # Words that are not normally analyzed\n",
        "\n",
        "tokenizer = RegexpTokenizer(\"[\\w']{3,}\")    # Define tokenizer with regular expression\n",
        "english_stops = set(stopwords.words('english'))   # Take English Stopwords.\n",
        "\n",
        "# Get the original text with raw() instead of words()\n",
        "documents = [movie_reviews.raw(fileid) for fileid in movie_reviews.fileids()]\n",
        "\n",
        "# Simultaneous application of stopwords and tokenization.\n",
        "tokens = [[token for token in tokenizer.tokenize(doc) if token not in english_stops] for doc in documents]\n",
        "word_count = {}\n",
        "for text in tokens:\n",
        "  for word in text:\n",
        "    word_count[word] = word_count.get(word, 0) + 1\n",
        "\n",
        "sorted_features = sorted(word_count, key=word_count.get, reverse=True)\n",
        "\n",
        "print('Num of features:', len(sorted_features))\n",
        "for word in sorted_features[:10]:\n",
        "  print(f\"count of '{word}': {word_count[word]}\", end=', ')"
      ],
      "metadata": {
        "colab": {
          "base_uri": "https://localhost:8080/"
        },
        "id": "jY-RRWjWBnpy",
        "outputId": "819e9889-c77e-495f-d025-13c4a55df333"
      },
      "execution_count": 7,
      "outputs": [
        {
          "output_type": "stream",
          "name": "stderr",
          "text": [
            "[nltk_data] Downloading package stopwords to /root/nltk_data...\n",
            "[nltk_data]   Unzipping corpora/stopwords.zip.\n"
          ]
        },
        {
          "output_type": "stream",
          "name": "stdout",
          "text": [
            "Num of features: 43030\n",
            "count of 'film': 8935, count of 'one': 5791, count of 'movie': 5538, count of 'like': 3690, count of 'even': 2564, count of 'time': 2409, count of 'good': 2407, count of 'story': 2136, count of 'would': 2084, count of 'much': 2049, "
          ]
        }
      ]
    },
    {
      "cell_type": "code",
      "source": [
        "# Configure features by extracting only the top 1000 words with high frequency.\n",
        "word_features = sorted_features[:1000]"
      ],
      "metadata": {
        "id": "dOQCUBOVC3fx"
      },
      "execution_count": 8,
      "outputs": []
    },
    {
      "cell_type": "code",
      "source": [
        "# A function that transforms a given document into a feature, using word_features\n",
        "def document_features(document, word_features):\n",
        "  word_count = {}\n",
        "  for word in document:   # First, count the frequencies of the words in the document.\n",
        "    word_count[word] = word_count.get(word, 0) + 1\n",
        "\n",
        "  features = []\n",
        "  # Add counted frequencies for words in word_features to features.\n",
        "  for word in word_features:\n",
        "    features.append(word_count.get(word, 0))    # Enter 0 for words with no frequency.\n",
        "  return features\n",
        "\n",
        "word_features_ex = ['one', 'two', 'teen', 'couples', 'solo']\n",
        "doc_ex = ['one', 'two', 'teen', 'teen', 'solo']\n",
        "print(document_features(doc_ex, word_features_ex))"
      ],
      "metadata": {
        "colab": {
          "base_uri": "https://localhost:8080/"
        },
        "id": "JMmgS1lODgoD",
        "outputId": "569b03a6-c6fc-4fd2-de7d-78b6060d7ac7"
      },
      "execution_count": 9,
      "outputs": [
        {
          "output_type": "stream",
          "name": "stdout",
          "text": [
            "[1, 1, 2, 0, 1]\n"
          ]
        }
      ]
    },
    {
      "cell_type": "code",
      "source": [
        "feature_sets = [document_features(d, word_features) for d in tokens]\n",
        "\n",
        "# Print the contents of the first feature set with only the first 20 words in word_featres.\n",
        "for i in range(20):\n",
        "  print(f'({word_features[i]}, {feature_sets[0][i]})', end=', ')"
      ],
      "metadata": {
        "colab": {
          "base_uri": "https://localhost:8080/"
        },
        "id": "EtQsjBrpEeng",
        "outputId": "ec744551-16dd-4078-b207-179cff401d91"
      },
      "execution_count": 10,
      "outputs": [
        {
          "output_type": "stream",
          "name": "stdout",
          "text": [
            "(film, 5), (one, 3), (movie, 6), (like, 3), (even, 3), (time, 0), (good, 2), (story, 0), (would, 1), (much, 0), (also, 1), (get, 3), (character, 1), (two, 2), (well, 1), (first, 0), (characters, 1), (see, 2), (way, 3), (make, 5), "
          ]
        }
      ]
    },
    {
      "cell_type": "code",
      "source": [
        "print(feature_sets[0][-20:])    # Print only the last 20 of the feature set."
      ],
      "metadata": {
        "colab": {
          "base_uri": "https://localhost:8080/"
        },
        "id": "ghNnc-W-E-8-",
        "outputId": "47cbaf9a-d9eb-46be-abc7-d823c42fc0d3"
      },
      "execution_count": 11,
      "outputs": [
        {
          "output_type": "stream",
          "name": "stdout",
          "text": [
            "[0, 0, 0, 0, 0, 0, 0, 0, 0, 0, 0, 0, 0, 0, 0, 0, 0, 0, 0, 0]\n"
          ]
        }
      ]
    },
    {
      "cell_type": "markdown",
      "source": [
        "## Generate Count Vectors with Scikit-Learn"
      ],
      "metadata": {
        "id": "zKlvnVoNFYpm"
      }
    },
    {
      "cell_type": "markdown",
      "source": [
        "### Main Parameter of CountVectorizer( )\n",
        "- tokenizer\n",
        "    - Specifies the external tokenizer in the form of a function.\n",
        "    - If not specified, its own tokenizer is used.\n",
        "- stop_words\n",
        "    - Specifies the stopword dictionary in the form of a list.\n",
        "    - If you give a value as <strong>'english'</strong>, its own English stopword dictionary is used.\n",
        "- ngram_range\n",
        "    - Specifies the range of ngram in the form of a tuple of (min_n, max_n).\n",
        "    - The default is (1, 1).\n",
        "- max_df\n",
        "    - When composing a feature with a word, if the frequency(document frequency) of occurrence in the document is greater than max_df, it is excluded.\n",
        "    - It can be specified as a percentage or the number of documents.\n",
        "- min_df\n",
        "    - When composing a feature with a word, if the frequency(document frequency) of occurrence in the document is less than min_df, it is excluded.\n",
        "    - It can be specified as a percentage or the number of documents.\n",
        "- max_features\n",
        "    - Specifies the maximum number of features.\n",
        "    - If not specified, the entire word is used.\n",
        "- vocabulay\n",
        "    - Directly specify the words to use as attributes.\n",
        "- binary\n",
        "    - If a value of True is given, the feature value is generated based on the presence or absence(1 or 0) of the word learned in verse 1 instead of the frequency."
      ],
      "metadata": {
        "id": "Hi_Nb4yfFrPv"
      }
    },
    {
      "cell_type": "markdown",
      "source": [
        "### Main Method of CountVectorizer class\n",
        "- fit(raw_documents)\n",
        "    - Tokenizes the set of documents(raw_documents) given as arguments and creates a set of properties.\n",
        "- transform(raw_docments)\n",
        "    - Using the feature set created by fit( ), it is converted into a count vector for the document set(raw_docments) given as an argument and returned.\n",
        "- fit_transform(raw_documents)\n",
        "    - Fit and transform are performed simultaneously on the set of documents given as arguments.\n",
        "- get_feature_names_out( )\n",
        "    - Returns the names of the attributes in the attribute set, i.e. words, in order.\n",
        "    - Before the version of Sklearn was changed to 1.0, it was get_feature_names(), so check the version of sklearn and use it accordingly."
      ],
      "metadata": {
        "id": "O2bHimcqILPE"
      }
    },
    {
      "cell_type": "code",
      "source": [
        "# Prepare data, extract raw text using movie_reviews.raw()\n",
        "reviews = [movie_reviews.raw(fileid) for fileid in movie_reviews.fileids()]"
      ],
      "metadata": {
        "id": "UUvDO7M7I3yi"
      },
      "execution_count": 12,
      "outputs": []
    },
    {
      "cell_type": "code",
      "source": [
        "from sklearn.feature_extraction.text import CountVectorizer\n",
        "\n",
        "# cv = CountVectorizer()     # When using default values ​​for all parameters\n",
        "\n",
        "# If you specify a set of features with the word_features you created earlier.\n",
        "cv = CountVectorizer(vocabulary=word_features)\n",
        "\n",
        "# When you specify the maximum number of attributes without specifying a set of attributes.\n",
        "# cv = CountVectorizer(max_features=1000)\n",
        "\n",
        "print(cv)     # Check the object's argument"
      ],
      "metadata": {
        "colab": {
          "base_uri": "https://localhost:8080/"
        },
        "id": "Z0YudP7DKMSr",
        "outputId": "3b1cee27-7b90-44dd-dba1-f41f6bd9af3a"
      },
      "execution_count": 13,
      "outputs": [
        {
          "output_type": "stream",
          "name": "stdout",
          "text": [
            "CountVectorizer(vocabulary=['film', 'one', 'movie', 'like', 'even', 'time',\n",
            "                            'good', 'story', 'would', 'much', 'also', 'get',\n",
            "                            'character', 'two', 'well', 'first', 'characters',\n",
            "                            'see', 'way', 'make', 'life', 'really', 'films',\n",
            "                            'plot', 'little', 'people', 'could', 'bad', 'scene',\n",
            "                            'never', ...])\n"
          ]
        }
      ]
    },
    {
      "cell_type": "code",
      "source": [
        "reviews_cv = cv.fit_transform(reviews)  # Learn and transform a count vector using reviews\n",
        "print(cv.get_feature_names_out()[:20])  # Returns the feature name used in the count vector\n",
        "print(word_features[:20])               # Print for comparison"
      ],
      "metadata": {
        "colab": {
          "base_uri": "https://localhost:8080/"
        },
        "id": "ioZ9peBpK3fa",
        "outputId": "2e688c84-d0ba-41ac-bb05-87404d47bdff"
      },
      "execution_count": 14,
      "outputs": [
        {
          "output_type": "stream",
          "name": "stdout",
          "text": [
            "['film' 'one' 'movie' 'like' 'even' 'time' 'good' 'story' 'would' 'much'\n",
            " 'also' 'get' 'character' 'two' 'well' 'first' 'characters' 'see' 'way'\n",
            " 'make']\n",
            "['film', 'one', 'movie', 'like', 'even', 'time', 'good', 'story', 'would', 'much', 'also', 'get', 'character', 'two', 'well', 'first', 'characters', 'see', 'way', 'make']\n"
          ]
        }
      ]
    },
    {
      "cell_type": "code",
      "source": [
        "print('# type of count vectors:', type(reviews_cv))\n",
        "print('# shape of count vectors:', reviews_cv.shape)\n",
        "print('# sample of count vector:')\n",
        "print(reviews_cv[0, :10])"
      ],
      "metadata": {
        "colab": {
          "base_uri": "https://localhost:8080/"
        },
        "id": "jIE_V36oLd5f",
        "outputId": "160c6527-dd7e-4e3d-a8d8-968b4ec777b0"
      },
      "execution_count": 15,
      "outputs": [
        {
          "output_type": "stream",
          "name": "stdout",
          "text": [
            "# type of count vectors: <class 'scipy.sparse.csr.csr_matrix'>\n",
            "# shape of count vectors: (2000, 1000)\n",
            "# sample of count vector:\n",
            "  (0, 0)\t6\n",
            "  (0, 1)\t3\n",
            "  (0, 2)\t6\n",
            "  (0, 3)\t3\n",
            "  (0, 4)\t3\n",
            "  (0, 6)\t2\n",
            "  (0, 8)\t1\n"
          ]
        }
      ]
    },
    {
      "cell_type": "code",
      "source": [
        "reviews_cv"
      ],
      "metadata": {
        "colab": {
          "base_uri": "https://localhost:8080/"
        },
        "id": "nZPKP_tbQoji",
        "outputId": "4dd17424-8a33-454f-83a5-0e3584fae7d9"
      },
      "execution_count": 16,
      "outputs": [
        {
          "output_type": "execute_result",
          "data": {
            "text/plain": [
              "<2000x1000 sparse matrix of type '<class 'numpy.int64'>'\n",
              "\twith 252984 stored elements in Compressed Sparse Row format>"
            ]
          },
          "metadata": {},
          "execution_count": 16
        }
      ]
    },
    {
      "cell_type": "code",
      "source": [
        "print(feature_sets[0][:20])   # Count Vector computed directly before\n",
        "\n",
        "# Print the first 20 among the first feature set of the transformed result.\n",
        "print(reviews_cv.toarray()[0, :20])"
      ],
      "metadata": {
        "colab": {
          "base_uri": "https://localhost:8080/"
        },
        "id": "8iSFZmP5RAI4",
        "outputId": "575b6742-cdf7-4eb5-953c-693fe0acfc49"
      },
      "execution_count": 17,
      "outputs": [
        {
          "output_type": "stream",
          "name": "stdout",
          "text": [
            "[5, 3, 6, 3, 3, 0, 2, 0, 1, 0, 1, 3, 1, 2, 1, 0, 1, 2, 3, 5]\n",
            "[6 3 6 3 3 0 2 0 1 0 1 3 2 2 1 0 1 2 3 5]\n"
          ]
        }
      ]
    },
    {
      "cell_type": "code",
      "source": [
        "for word, count in zip(cv.get_feature_names_out()[:20], reviews_cv[0].toarray()[0, :20]):\n",
        "  print(f'{word}:{count}', end=', ')"
      ],
      "metadata": {
        "colab": {
          "base_uri": "https://localhost:8080/"
        },
        "id": "TkHsZfQ_Ra6n",
        "outputId": "21d0760e-75f3-447e-a354-0908e9582a38"
      },
      "execution_count": 21,
      "outputs": [
        {
          "output_type": "stream",
          "name": "stdout",
          "text": [
            "film:6, one:3, movie:6, like:3, even:3, time:0, good:2, story:0, would:1, much:0, also:1, get:3, character:2, two:2, well:1, first:0, characters:1, see:2, way:3, make:5, "
          ]
        }
      ]
    },
    {
      "cell_type": "markdown",
      "source": [
        "## Count vector conversion of Korean text"
      ],
      "metadata": {
        "id": "FWPzQp5RRq_2"
      }
    },
    {
      "cell_type": "code",
      "source": [
        "import pandas as pd\n",
        "df = pd.read_csv('https://raw.githubusercontent.com/wikibook/textmining/main/data/daum_movie_review.csv')\n",
        "df.head(10)"
      ],
      "metadata": {
        "colab": {
          "base_uri": "https://localhost:8080/",
          "height": 363
        },
        "id": "cZ5Cpg9xR9ez",
        "outputId": "3f011942-5c5b-4207-bdd6-902a2981feb0"
      },
      "execution_count": 22,
      "outputs": [
        {
          "output_type": "execute_result",
          "data": {
            "text/plain": [
              "                                              review  rating        date  \\\n",
              "0                             돈 들인건 티가 나지만 보는 내내 하품만       1  2018.10.29   \n",
              "1       몰입할수밖에 없다. 어렵게 생각할 필요없다. 내가 전투에 참여한듯 손에 땀이남.      10  2018.10.26   \n",
              "2  이전 작품에 비해 더 화려하고 스케일도 커졌지만.... 전국 맛집의 음식들을 한데 ...       8  2018.10.24   \n",
              "3                                이 정도면 볼만하다고 할 수 있음!       8  2018.10.22   \n",
              "4                                               재미있다      10  2018.10.20   \n",
              "5                                           나는 재밌게 봄      10  2018.10.14   \n",
              "6                                      0.5점은 줄 수 없냐?       0  2018.10.10   \n",
              "7                     헐..다 죽었어....나중에 앤트맨 보다가도 깜놀...      10  2018.10.08   \n",
              "8                                              충격 결말       9  2018.10.06   \n",
              "9                                                응집력       8  2018.10.05   \n",
              "\n",
              "    title  \n",
              "0  인피니티 워  \n",
              "1  인피니티 워  \n",
              "2  인피니티 워  \n",
              "3  인피니티 워  \n",
              "4  인피니티 워  \n",
              "5  인피니티 워  \n",
              "6  인피니티 워  \n",
              "7  인피니티 워  \n",
              "8  인피니티 워  \n",
              "9  인피니티 워  "
            ],
            "text/html": [
              "\n",
              "  <div id=\"df-15839190-ab53-4d72-991a-39f8f7e6b56c\">\n",
              "    <div class=\"colab-df-container\">\n",
              "      <div>\n",
              "<style scoped>\n",
              "    .dataframe tbody tr th:only-of-type {\n",
              "        vertical-align: middle;\n",
              "    }\n",
              "\n",
              "    .dataframe tbody tr th {\n",
              "        vertical-align: top;\n",
              "    }\n",
              "\n",
              "    .dataframe thead th {\n",
              "        text-align: right;\n",
              "    }\n",
              "</style>\n",
              "<table border=\"1\" class=\"dataframe\">\n",
              "  <thead>\n",
              "    <tr style=\"text-align: right;\">\n",
              "      <th></th>\n",
              "      <th>review</th>\n",
              "      <th>rating</th>\n",
              "      <th>date</th>\n",
              "      <th>title</th>\n",
              "    </tr>\n",
              "  </thead>\n",
              "  <tbody>\n",
              "    <tr>\n",
              "      <th>0</th>\n",
              "      <td>돈 들인건 티가 나지만 보는 내내 하품만</td>\n",
              "      <td>1</td>\n",
              "      <td>2018.10.29</td>\n",
              "      <td>인피니티 워</td>\n",
              "    </tr>\n",
              "    <tr>\n",
              "      <th>1</th>\n",
              "      <td>몰입할수밖에 없다. 어렵게 생각할 필요없다. 내가 전투에 참여한듯 손에 땀이남.</td>\n",
              "      <td>10</td>\n",
              "      <td>2018.10.26</td>\n",
              "      <td>인피니티 워</td>\n",
              "    </tr>\n",
              "    <tr>\n",
              "      <th>2</th>\n",
              "      <td>이전 작품에 비해 더 화려하고 스케일도 커졌지만.... 전국 맛집의 음식들을 한데 ...</td>\n",
              "      <td>8</td>\n",
              "      <td>2018.10.24</td>\n",
              "      <td>인피니티 워</td>\n",
              "    </tr>\n",
              "    <tr>\n",
              "      <th>3</th>\n",
              "      <td>이 정도면 볼만하다고 할 수 있음!</td>\n",
              "      <td>8</td>\n",
              "      <td>2018.10.22</td>\n",
              "      <td>인피니티 워</td>\n",
              "    </tr>\n",
              "    <tr>\n",
              "      <th>4</th>\n",
              "      <td>재미있다</td>\n",
              "      <td>10</td>\n",
              "      <td>2018.10.20</td>\n",
              "      <td>인피니티 워</td>\n",
              "    </tr>\n",
              "    <tr>\n",
              "      <th>5</th>\n",
              "      <td>나는 재밌게 봄</td>\n",
              "      <td>10</td>\n",
              "      <td>2018.10.14</td>\n",
              "      <td>인피니티 워</td>\n",
              "    </tr>\n",
              "    <tr>\n",
              "      <th>6</th>\n",
              "      <td>0.5점은 줄 수 없냐?</td>\n",
              "      <td>0</td>\n",
              "      <td>2018.10.10</td>\n",
              "      <td>인피니티 워</td>\n",
              "    </tr>\n",
              "    <tr>\n",
              "      <th>7</th>\n",
              "      <td>헐..다 죽었어....나중에 앤트맨 보다가도 깜놀...</td>\n",
              "      <td>10</td>\n",
              "      <td>2018.10.08</td>\n",
              "      <td>인피니티 워</td>\n",
              "    </tr>\n",
              "    <tr>\n",
              "      <th>8</th>\n",
              "      <td>충격 결말</td>\n",
              "      <td>9</td>\n",
              "      <td>2018.10.06</td>\n",
              "      <td>인피니티 워</td>\n",
              "    </tr>\n",
              "    <tr>\n",
              "      <th>9</th>\n",
              "      <td>응집력</td>\n",
              "      <td>8</td>\n",
              "      <td>2018.10.05</td>\n",
              "      <td>인피니티 워</td>\n",
              "    </tr>\n",
              "  </tbody>\n",
              "</table>\n",
              "</div>\n",
              "      <button class=\"colab-df-convert\" onclick=\"convertToInteractive('df-15839190-ab53-4d72-991a-39f8f7e6b56c')\"\n",
              "              title=\"Convert this dataframe to an interactive table.\"\n",
              "              style=\"display:none;\">\n",
              "        \n",
              "  <svg xmlns=\"http://www.w3.org/2000/svg\" height=\"24px\"viewBox=\"0 0 24 24\"\n",
              "       width=\"24px\">\n",
              "    <path d=\"M0 0h24v24H0V0z\" fill=\"none\"/>\n",
              "    <path d=\"M18.56 5.44l.94 2.06.94-2.06 2.06-.94-2.06-.94-.94-2.06-.94 2.06-2.06.94zm-11 1L8.5 8.5l.94-2.06 2.06-.94-2.06-.94L8.5 2.5l-.94 2.06-2.06.94zm10 10l.94 2.06.94-2.06 2.06-.94-2.06-.94-.94-2.06-.94 2.06-2.06.94z\"/><path d=\"M17.41 7.96l-1.37-1.37c-.4-.4-.92-.59-1.43-.59-.52 0-1.04.2-1.43.59L10.3 9.45l-7.72 7.72c-.78.78-.78 2.05 0 2.83L4 21.41c.39.39.9.59 1.41.59.51 0 1.02-.2 1.41-.59l7.78-7.78 2.81-2.81c.8-.78.8-2.07 0-2.86zM5.41 20L4 18.59l7.72-7.72 1.47 1.35L5.41 20z\"/>\n",
              "  </svg>\n",
              "      </button>\n",
              "      \n",
              "  <style>\n",
              "    .colab-df-container {\n",
              "      display:flex;\n",
              "      flex-wrap:wrap;\n",
              "      gap: 12px;\n",
              "    }\n",
              "\n",
              "    .colab-df-convert {\n",
              "      background-color: #E8F0FE;\n",
              "      border: none;\n",
              "      border-radius: 50%;\n",
              "      cursor: pointer;\n",
              "      display: none;\n",
              "      fill: #1967D2;\n",
              "      height: 32px;\n",
              "      padding: 0 0 0 0;\n",
              "      width: 32px;\n",
              "    }\n",
              "\n",
              "    .colab-df-convert:hover {\n",
              "      background-color: #E2EBFA;\n",
              "      box-shadow: 0px 1px 2px rgba(60, 64, 67, 0.3), 0px 1px 3px 1px rgba(60, 64, 67, 0.15);\n",
              "      fill: #174EA6;\n",
              "    }\n",
              "\n",
              "    [theme=dark] .colab-df-convert {\n",
              "      background-color: #3B4455;\n",
              "      fill: #D2E3FC;\n",
              "    }\n",
              "\n",
              "    [theme=dark] .colab-df-convert:hover {\n",
              "      background-color: #434B5C;\n",
              "      box-shadow: 0px 1px 3px 1px rgba(0, 0, 0, 0.15);\n",
              "      filter: drop-shadow(0px 1px 2px rgba(0, 0, 0, 0.3));\n",
              "      fill: #FFFFFF;\n",
              "    }\n",
              "  </style>\n",
              "\n",
              "      <script>\n",
              "        const buttonEl =\n",
              "          document.querySelector('#df-15839190-ab53-4d72-991a-39f8f7e6b56c button.colab-df-convert');\n",
              "        buttonEl.style.display =\n",
              "          google.colab.kernel.accessAllowed ? 'block' : 'none';\n",
              "\n",
              "        async function convertToInteractive(key) {\n",
              "          const element = document.querySelector('#df-15839190-ab53-4d72-991a-39f8f7e6b56c');\n",
              "          const dataTable =\n",
              "            await google.colab.kernel.invokeFunction('convertToInteractive',\n",
              "                                                     [key], {});\n",
              "          if (!dataTable) return;\n",
              "\n",
              "          const docLinkHtml = 'Like what you see? Visit the ' +\n",
              "            '<a target=\"_blank\" href=https://colab.research.google.com/notebooks/data_table.ipynb>data table notebook</a>'\n",
              "            + ' to learn more about interactive tables.';\n",
              "          element.innerHTML = '';\n",
              "          dataTable['output_type'] = 'display_data';\n",
              "          await google.colab.output.renderOutput(dataTable, element);\n",
              "          const docLink = document.createElement('div');\n",
              "          docLink.innerHTML = docLinkHtml;\n",
              "          element.appendChild(docLink);\n",
              "        }\n",
              "      </script>\n",
              "    </div>\n",
              "  </div>\n",
              "  "
            ]
          },
          "metadata": {},
          "execution_count": 22
        }
      ]
    },
    {
      "cell_type": "code",
      "source": [
        "from sklearn.feature_extraction.text import CountVectorizer\n",
        "daum_cv = CountVectorizer(max_features=1000)\n",
        "\n",
        "# Learn and transform a count vector using review.\n",
        "daum_DTM = daum_cv.fit_transform(df.review)\n",
        "\n",
        "print(daum_cv.get_feature_names_out()[:100])  # Returns the feature name used in the count vector."
      ],
      "metadata": {
        "colab": {
          "base_uri": "https://localhost:8080/"
        },
        "id": "h1YTMU6LS3RE",
        "outputId": "58d398b9-01e5-44cf-f62b-85bd9c714d88"
      },
      "execution_count": 23,
      "outputs": [
        {
          "output_type": "stream",
          "name": "stdout",
          "text": [
            "['10점' '18' '1987' '1도' '1점' '1점도' '2시간' '2시간이' '2편' '5점' '6점' '7점' '8점'\n",
            " 'cg' 'cg가' 'cg는' 'cg도' 'cg만' 'good' 'of' 'ㅋㅋ' 'ㅋㅋㅋ' 'ㅋㅋㅋㅋ' 'ㅎㅎ' 'ㅎㅎㅎ'\n",
            " 'ㅜㅜ' 'ㅠㅠ' 'ㅠㅠㅠ' 'ㅡㅡ' '가는' '가는줄' '가면' '가서' '가슴' '가슴아픈' '가슴이' '가장' '가족'\n",
            " '가족과' '가족들과' '가족의' '가족이' '가지고' '간만에' '갈수록' '감독' '감독님' '감독은' '감독의' '감독이'\n",
            " '감동' '감동과' '감동도' '감동은' '감동을' '감동이' '감동입니다' '감동적' '감동적이고' '감동적인' '감사드립니다'\n",
            " '감사합니다' '감정이' '갑자기' '갔는데' '갔다가' '강철비' '강추' '강추합니다' '같고' '같네요' '같다' '같습니다'\n",
            " '같아' '같아요' '같은' '같은데' '같음' '같이' '개연성' '개연성이' '개인적으로' '거의' '겁나' '것도' '것은'\n",
            " '것을' '것이' '것이다' '겨울왕국' '결국' '결말' '결말이' '계속' '고맙습니다' '곤지암' '공포' '공포를'\n",
            " '공포영화' '관객']\n"
          ]
        }
      ]
    },
    {
      "cell_type": "code",
      "source": [
        "!pip install konlpy"
      ],
      "metadata": {
        "colab": {
          "base_uri": "https://localhost:8080/"
        },
        "id": "1LPNWw6mTbEa",
        "outputId": "49de4b95-a8e9-4e01-fc06-e518a3c6ea1c"
      },
      "execution_count": 25,
      "outputs": [
        {
          "output_type": "stream",
          "name": "stdout",
          "text": [
            "Looking in indexes: https://pypi.org/simple, https://us-python.pkg.dev/colab-wheels/public/simple/\n",
            "Collecting konlpy\n",
            "  Downloading konlpy-0.6.0-py2.py3-none-any.whl (19.4 MB)\n",
            "\u001b[K     |████████████████████████████████| 19.4 MB 1.2 MB/s \n",
            "\u001b[?25hCollecting JPype1>=0.7.0\n",
            "  Downloading JPype1-1.4.0-cp37-cp37m-manylinux_2_5_x86_64.manylinux1_x86_64.whl (453 kB)\n",
            "\u001b[K     |████████████████████████████████| 453 kB 86.4 MB/s \n",
            "\u001b[?25hRequirement already satisfied: numpy>=1.6 in /usr/local/lib/python3.7/dist-packages (from konlpy) (1.21.6)\n",
            "Requirement already satisfied: lxml>=4.1.0 in /usr/local/lib/python3.7/dist-packages (from konlpy) (4.9.1)\n",
            "Requirement already satisfied: typing-extensions in /usr/local/lib/python3.7/dist-packages (from JPype1>=0.7.0->konlpy) (4.1.1)\n",
            "Installing collected packages: JPype1, konlpy\n",
            "Successfully installed JPype1-1.4.0 konlpy-0.6.0\n"
          ]
        }
      ]
    },
    {
      "cell_type": "code",
      "source": [
        "from konlpy.tag import Okt\n",
        "twitter_tag = Okt()\n",
        "print('# 전체 형태소 결과:', twitter_tag.morphs(df.review[1]))\n",
        "print('# 명사만 추출:', twitter_tag.nouns(df.review[1]))\n",
        "print('# 품사 태깅 결과:', twitter_tag.pos(df.review[1]))"
      ],
      "metadata": {
        "colab": {
          "base_uri": "https://localhost:8080/"
        },
        "id": "bZraXV0ETkQp",
        "outputId": "68dcb492-00a7-4ce1-ea35-71bbee7aec27"
      },
      "execution_count": 26,
      "outputs": [
        {
          "output_type": "stream",
          "name": "stdout",
          "text": [
            "# 전체 형태소 결과: ['몰입', '할수밖에', '없다', '.', '어렵게', '생각', '할', '필요없다', '.', '내', '가', '전투', '에', '참여', '한', '듯', '손', '에', '땀', '이남', '.']\n",
            "# 명사만 추출: ['몰입', '생각', '내', '전투', '참여', '듯', '손', '땀', '이남']\n",
            "# 품사 태깅 결과: [('몰입', 'Noun'), ('할수밖에', 'Verb'), ('없다', 'Adjective'), ('.', 'Punctuation'), ('어렵게', 'Adjective'), ('생각', 'Noun'), ('할', 'Verb'), ('필요없다', 'Adjective'), ('.', 'Punctuation'), ('내', 'Noun'), ('가', 'Josa'), ('전투', 'Noun'), ('에', 'Josa'), ('참여', 'Noun'), ('한', 'Determiner'), ('듯', 'Noun'), ('손', 'Noun'), ('에', 'Josa'), ('땀', 'Noun'), ('이남', 'Noun'), ('.', 'Punctuation')]\n"
          ]
        }
      ]
    },
    {
      "cell_type": "code",
      "source": [
        "def my_tokenizer(doc):\n",
        "  return [\n",
        "      token\n",
        "      for token, pos in twitter_tag.pos(doc)\n",
        "      if pos in ['Noun', 'Verb', 'Adjective']\n",
        "  ]\n",
        "\n",
        "print(\"나만의 토크나이저 결과:\", my_tokenizer(df.review[1]))"
      ],
      "metadata": {
        "colab": {
          "base_uri": "https://localhost:8080/"
        },
        "id": "JXvLoeQsT4Ki",
        "outputId": "31fd053a-a6bf-4b37-a02c-5eb2f7f6014f"
      },
      "execution_count": 27,
      "outputs": [
        {
          "output_type": "stream",
          "name": "stdout",
          "text": [
            "나만의 토크나이저 결과: ['몰입', '할수밖에', '없다', '어렵게', '생각', '할', '필요없다', '내', '전투', '참여', '듯', '손', '땀', '이남']\n"
          ]
        }
      ]
    },
    {
      "cell_type": "code",
      "source": [
        "from sklearn.feature_extraction.text import CountVectorizer\n",
        "\n",
        "# Specifies the maximum number of tokenizers and attributes\n",
        "# If you want to extract only nouns, you can directly specify 'twitter_tag.nouns' in the tokenizer.\n",
        "daum_cv = CountVectorizer(max_features=1000, tokenizer=my_tokenizer)\n",
        "\n",
        "# Learn and transform a count vector using review\n",
        "daum_DTM = daum_cv.fit_transform(df.review)\n",
        "\n",
        "print(daum_cv.get_feature_names_out()[:100])  # Returns the feature name used in the count vector."
      ],
      "metadata": {
        "colab": {
          "base_uri": "https://localhost:8080/"
        },
        "id": "5iyWqwJ4UMuL",
        "outputId": "097a51d2-e62c-4c7d-f556-a1c8cbd5cd2a"
      },
      "execution_count": 28,
      "outputs": [
        {
          "output_type": "stream",
          "name": "stdout",
          "text": [
            "['가' '가는' '가는줄' '가면' '가서' '가슴' '가장' '가족' '가족영화' '가지' '가치' '각색' '간' '간다'\n",
            " '간만' '갈' '갈수록' '감' '감독' '감동' '감사' '감사합니다' '감상' '감성' '감정' '감탄' '갑자기' '갔는데'\n",
            " '갔다' '갔다가' '강' '강철' '강추' '같고' '같네요' '같다' '같습니다' '같아' '같아요' '같은' '같은데'\n",
            " '같음' '개' '개그' '개봉' '개연' '개인' '거' '거기' '거리' '거의' '걱정' '건' '건가' '건지' '걸'\n",
            " '겁니다' '것' '게' '겨울왕국' '결론' '결말' '경찰' '경험' '계속' '고' '고맙습니다' '고민' '고생' '곤지암'\n",
            " '곳' '공감' '공포' '공포영화' '과' '과거' '관' '관객' '관객수' '관람' '광주' '괜찮은' '교훈' '구성'\n",
            " '국내' '국민' '군인' '군함도' '굿' '권선' '귀신' '그' '그것' '그게' '그날' '그냥' '그닥' '그대로'\n",
            " '그때' '그래픽']\n"
          ]
        }
      ]
    },
    {
      "cell_type": "code",
      "source": [
        "print(repr(daum_DTM))\n",
        "print(110800/(14725*1000))"
      ],
      "metadata": {
        "colab": {
          "base_uri": "https://localhost:8080/"
        },
        "id": "8alKBxz-U8Xb",
        "outputId": "1d17a271-3be0-49d6-c0dd-c00566e8353d"
      },
      "execution_count": 29,
      "outputs": [
        {
          "output_type": "stream",
          "name": "stdout",
          "text": [
            "<14725x1000 sparse matrix of type '<class 'numpy.int64'>'\n",
            "\twith 110800 stored elements in Compressed Sparse Row format>\n",
            "0.007524617996604414\n"
          ]
        }
      ]
    },
    {
      "cell_type": "code",
      "source": [
        "for word, count in zip(daum_cv.get_feature_names_out(), daum_DTM[1].toarray()[0]):\n",
        "  if count > 0:\n",
        "    print(word, ':', count, end=', ')"
      ],
      "metadata": {
        "colab": {
          "base_uri": "https://localhost:8080/"
        },
        "id": "82bWhruzVJ36",
        "outputId": "0a9bac18-2e3d-455b-f7a9-3d8cfe61dbe7"
      },
      "execution_count": 30,
      "outputs": [
        {
          "output_type": "stream",
          "name": "stdout",
          "text": [
            "내 : 1, 듯 : 1, 몰입 : 1, 생각 : 1, 손 : 1, 없다 : 1, 할 : 1, "
          ]
        }
      ]
    },
    {
      "cell_type": "markdown",
      "source": [
        "## Use of count vectors"
      ],
      "metadata": {
        "id": "9NbW7pNHYLzX"
      }
    },
    {
      "cell_type": "code",
      "source": [
        "%matplotlib inline\n",
        "import matplotlib.pyplot as plt\n",
        "import matplotlib as mpl\n",
        "\n",
        "# Coping with the problem of breaking the negative font in the graph.\n",
        "mpl.rcParams['axes.unicode_minus'] = False\n",
        "\n",
        "import numpy as np\n",
        "\n",
        "x = np.arange(0, 2*np.pi, 0.1)    # start, stop, step\n",
        "y = np.cos(x)\n",
        "# print(x)\n",
        "plt.plot(x, y)\n",
        "plt.show()"
      ],
      "metadata": {
        "colab": {
          "base_uri": "https://localhost:8080/",
          "height": 265
        },
        "id": "HtV9V7i-VZar",
        "outputId": "bf85b443-7aa1-4c63-b7d4-3e5c1f8b3ecc"
      },
      "execution_count": 31,
      "outputs": [
        {
          "output_type": "display_data",
          "data": {
            "text/plain": [
              "<Figure size 432x288 with 1 Axes>"
            ],
            "image/png": "[encoded data removed]"
          },
          "metadata": {
            "needs_background": "light"
          }
        }
      ]
    },
    {
      "cell_type": "code",
      "source": [
        "from sklearn.metrics.pairwise import cosine_similarity\n",
        "\n",
        "# Check the number of characters in the first review and find the center point to get the second half.\n",
        "start = len(reviews[0]) // 2\n",
        "\n",
        "# Take the back half from the center point and create a document to compare.\n",
        "source = reviews[0][-start:]\n",
        "\n",
        "# Cosine similarity is calculated on a count vector, so convert to vector.\n",
        "# transform() always requires input in the form of a list or matrix, so make it a list and input it.\n",
        "source_cv = cv.transform([source])\n",
        "\n",
        "# Check the size of the matrix, since the document is one (1, 1000)\n",
        "print('# 대상 특성 행렬의 크기:', source_cv.shape)\n",
        "\n",
        "# Calculate the similarity between the transformed count vector and the existing values.\n",
        "sim_result = cosine_similarity(source_cv, reviews_cv)\n",
        "\n",
        "print('# 유사도 계산 행렬의 크기:', sim_result.shape)\n",
        "print('# 유사도 계산결과를 역순으로 정렬:', sorted(sim_result[0], reverse=True)[:10])"
      ],
      "metadata": {
        "colab": {
          "base_uri": "https://localhost:8080/"
        },
        "id": "-qjkHwt5WXJn",
        "outputId": "ed4577d6-8401-4d0c-a280-33bf3ff9f851"
      },
      "execution_count": 32,
      "outputs": [
        {
          "output_type": "stream",
          "name": "stdout",
          "text": [
            "# 대상 특성 행렬의 크기: (1, 1000)\n",
            "# 유사도 계산 행렬의 크기: (1, 2000)\n",
            "# 유사도 계산결과를 역순으로 정렬: [0.8367205630128807, 0.43817531290756406, 0.4080451370075411, 0.40727044884302327, 0.4060219836225451, 0.3999621981759778, 0.39965783997760135, 0.39566661804603703, 0.3945302295079114, 0.3911637170821695]\n"
          ]
        }
      ]
    },
    {
      "cell_type": "code",
      "source": [
        "import numpy as np\n",
        "print('# 가장 유사한 리뷰의 인덱스:', np.argmax(sim_result[0]))"
      ],
      "metadata": {
        "colab": {
          "base_uri": "https://localhost:8080/"
        },
        "id": "62LnQntHXv6n",
        "outputId": "17b12338-bcf2-46f0-ed8d-8120029fe88d"
      },
      "execution_count": 33,
      "outputs": [
        {
          "output_type": "stream",
          "name": "stdout",
          "text": [
            "# 가장 유사한 리뷰의 인덱스: 0\n"
          ]
        }
      ]
    },
    {
      "cell_type": "code",
      "source": [
        "print('# 가장 유사한 리뷰부터 정렬한 인덱스:', (-sim_result[0]).argsort()[:10])"
      ],
      "metadata": {
        "colab": {
          "base_uri": "https://localhost:8080/"
        },
        "id": "3pm_TpjiX4c3",
        "outputId": "468ccc06-3b0e-40ca-ebef-337447ea8ad3"
      },
      "execution_count": 36,
      "outputs": [
        {
          "output_type": "stream",
          "name": "stdout",
          "text": [
            "# 가장 유사한 리뷰부터 정렬한 인덱스: [   0 1110 1570  687  628  112 1712 1393  524 1740]\n"
          ]
        }
      ]
    },
    {
      "cell_type": "markdown",
      "source": [
        "## Boost your performance with TF-IDF"
      ],
      "metadata": {
        "id": "0hXuE2B3X-fP"
      }
    },
    {
      "cell_type": "code",
      "source": [
        "from sklearn.feature_extraction.text import TfidfTransformer\n",
        "transformer = TfidfTransformer()\n",
        "transformer\n",
        "\n",
        "reviews_tfidf = transformer.fit_transform(reviews_cv)\n",
        "\n",
        "# Check that the shape of the TF-IDF matrix matches the shape of the count matrix.\n",
        "print('# shape of tfidf matrix:', reviews_tfidf.shape)\n",
        "\n",
        "# Print the first 20 values ​​in the count vector of the first review.\n",
        "print('# 20 count score of the first review:', reviews_cv[0].toarray()[0][:20])\n",
        "\n",
        "# Print the first 20 values ​​among the TF-IDF vectors of the first review.\n",
        "print('# 20 tfidf score of the first review:', reviews_tfidf[0].toarray()[0][:20])"
      ],
      "metadata": {
        "colab": {
          "base_uri": "https://localhost:8080/"
        },
        "id": "cszwpV5FYSkG",
        "outputId": "25252f26-c3bb-48ef-d7ac-874c44cd872d"
      },
      "execution_count": 38,
      "outputs": [
        {
          "output_type": "stream",
          "name": "stdout",
          "text": [
            "# shape of tfidf matrix: (2000, 1000)\n",
            "# 20 count score of the first review: [6 3 6 3 3 0 2 0 1 0 1 3 2 2 1 0 1 2 3 5]\n",
            "# 20 tfidf score of the first review: [0.13556199 0.06700076 0.14998642 0.0772298  0.08608998 0.\n",
            " 0.0609124  0.         0.03126552 0.         0.03242315 0.09567082\n",
            " 0.06575035 0.06518293 0.03225625 0.         0.0345017  0.06863314\n",
            " 0.10042383 0.16727495]\n"
          ]
        }
      ]
    },
    {
      "cell_type": "code",
      "source": [
        "from sklearn.feature_extraction.text import TfidfVectorizer\n",
        "\n",
        "tf = TfidfVectorizer(vocabulary=word_features)\n",
        "reviews_tf = tf.fit_transform(reviews)\n",
        "\n",
        "# Cosine similarity is calculated on a count vector, so convert to vector.\n",
        "# transform() always requires input in the form of a list or matrix, so make it a list and input it.\n",
        "source_tf = tf.transform([source])\n",
        "\n",
        "# Calculate the similarity between the transformed count vector and the existing values.\n",
        "sim_result_tf = cosine_similarity(source_tf, reviews_tf)\n",
        "\n",
        "print('# 가장 유사한 리뷰의 인덱스:', np.argmax(sim_result_tf[0]))"
      ],
      "metadata": {
        "colab": {
          "base_uri": "https://localhost:8080/"
        },
        "id": "P4KhGnn0ZIyd",
        "outputId": "c17c5847-8826-4d14-a14a-a7e3044192b9"
      },
      "execution_count": 39,
      "outputs": [
        {
          "output_type": "stream",
          "name": "stdout",
          "text": [
            "# 가장 유사한 리뷰의 인덱스: 0\n"
          ]
        }
      ]
    },
    {
      "cell_type": "code",
      "source": [
        "print(\n",
        "    '# 카운트 벡터에 대해 가장 유사한 리뷰부터 정렬한 인덱스:',\n",
        "    (-sim_result[0]).argsort()[:10]\n",
        ")\n",
        "print(\n",
        "    '# TF-IDF 벡터에 대해 가장 유사한 리뷰부터 정렬한 인덱스:',\n",
        "    (-sim_result_tf[0]).argsort()[:10]\n",
        ")"
      ],
      "metadata": {
        "colab": {
          "base_uri": "https://localhost:8080/"
        },
        "id": "ngkJVJJxaMTU",
        "outputId": "56517089-cad4-4070-897a-4432f211156c"
      },
      "execution_count": 40,
      "outputs": [
        {
          "output_type": "stream",
          "name": "stdout",
          "text": [
            "# 카운트 벡터에 대해 가장 유사한 리뷰부터 정렬한 인덱스: [   0 1110 1570  687  628  112 1712 1393  524 1740]\n",
            "# TF-IDF 벡터에 대해 가장 유사한 리뷰부터 정렬한 인덱스: [   0 1110 1393 1570  645  323 1143  628 1676 1391]\n"
          ]
        }
      ]
    }
  ]
}